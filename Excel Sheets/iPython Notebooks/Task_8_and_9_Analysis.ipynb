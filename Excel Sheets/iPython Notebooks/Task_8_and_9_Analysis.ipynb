{
 "cells": [
  {
   "cell_type": "code",
   "execution_count": 5,
   "metadata": {},
   "outputs": [],
   "source": [
    "import matplotlib.pyplot as plt\n",
    "import numpy as np\n",
    "import os\n",
    "import pandas as pd\n",
    "import glob\n",
    "from natsort import natsorted\n",
    "\n",
    "import seaborn as sns\n",
    "\n",
    "from sklearn.linear_model import LinearRegression\n",
    "from sklearn.metrics import confusion_matrix\n",
    "from sklearn.metrics import mean_squared_error\n",
    "from sklearn.neighbors import KNeighborsRegressor"
   ]
  },
  {
   "cell_type": "code",
   "execution_count": 2,
   "metadata": {},
   "outputs": [],
   "source": [
    "dataPath = 'Task_8_and_9.xlsx'"
   ]
  },
  {
   "cell_type": "code",
   "execution_count": 3,
   "metadata": {},
   "outputs": [],
   "source": [
    "dataSet = pd.read_excel(dataPath)"
   ]
  },
  {
   "cell_type": "code",
   "execution_count": 4,
   "metadata": {},
   "outputs": [
    {
     "data": {
      "text/html": [
       "<div>\n",
       "<style scoped>\n",
       "    .dataframe tbody tr th:only-of-type {\n",
       "        vertical-align: middle;\n",
       "    }\n",
       "\n",
       "    .dataframe tbody tr th {\n",
       "        vertical-align: top;\n",
       "    }\n",
       "\n",
       "    .dataframe thead th {\n",
       "        text-align: right;\n",
       "    }\n",
       "</style>\n",
       "<table border=\"1\" class=\"dataframe\">\n",
       "  <thead>\n",
       "    <tr style=\"text-align: right;\">\n",
       "      <th></th>\n",
       "      <th>Keypoint Detector</th>\n",
       "      <th>Keypoint Descriptor</th>\n",
       "      <th>Num of matched keypoints</th>\n",
       "      <th>Time detectors (ms)</th>\n",
       "      <th>Time descriptors (ms)</th>\n",
       "      <th>Total time (ms)</th>\n",
       "    </tr>\n",
       "  </thead>\n",
       "  <tbody>\n",
       "    <tr>\n",
       "      <th>0</th>\n",
       "      <td>SHITOMASI</td>\n",
       "      <td>BRISK</td>\n",
       "      <td>95</td>\n",
       "      <td>17.7700</td>\n",
       "      <td>3.947520</td>\n",
       "      <td>21.7175</td>\n",
       "    </tr>\n",
       "    <tr>\n",
       "      <th>1</th>\n",
       "      <td>SHITOMASI</td>\n",
       "      <td>BRISK</td>\n",
       "      <td>88</td>\n",
       "      <td>18.8050</td>\n",
       "      <td>0.406398</td>\n",
       "      <td>19.2114</td>\n",
       "    </tr>\n",
       "    <tr>\n",
       "      <th>2</th>\n",
       "      <td>SHITOMASI</td>\n",
       "      <td>BRISK</td>\n",
       "      <td>80</td>\n",
       "      <td>16.7663</td>\n",
       "      <td>0.438428</td>\n",
       "      <td>17.2048</td>\n",
       "    </tr>\n",
       "    <tr>\n",
       "      <th>3</th>\n",
       "      <td>SHITOMASI</td>\n",
       "      <td>BRISK</td>\n",
       "      <td>90</td>\n",
       "      <td>17.1345</td>\n",
       "      <td>0.388685</td>\n",
       "      <td>17.5232</td>\n",
       "    </tr>\n",
       "    <tr>\n",
       "      <th>4</th>\n",
       "      <td>SHITOMASI</td>\n",
       "      <td>BRISK</td>\n",
       "      <td>82</td>\n",
       "      <td>17.5966</td>\n",
       "      <td>0.376111</td>\n",
       "      <td>17.9727</td>\n",
       "    </tr>\n",
       "  </tbody>\n",
       "</table>\n",
       "</div>"
      ],
      "text/plain": [
       "  Keypoint Detector Keypoint Descriptor  Num of matched keypoints  \\\n",
       "0         SHITOMASI               BRISK                        95   \n",
       "1         SHITOMASI               BRISK                        88   \n",
       "2         SHITOMASI               BRISK                        80   \n",
       "3         SHITOMASI               BRISK                        90   \n",
       "4         SHITOMASI               BRISK                        82   \n",
       "\n",
       "   Time detectors (ms)  Time descriptors (ms)  Total time (ms)  \n",
       "0              17.7700               3.947520          21.7175  \n",
       "1              18.8050               0.406398          19.2114  \n",
       "2              16.7663               0.438428          17.2048  \n",
       "3              17.1345               0.388685          17.5232  \n",
       "4              17.5966               0.376111          17.9727  "
      ]
     },
     "execution_count": 4,
     "metadata": {},
     "output_type": "execute_result"
    }
   ],
   "source": [
    "dataSet.head()"
   ]
  },
  {
   "cell_type": "markdown",
   "metadata": {},
   "source": [
    "## Data Description\n",
    "\n",
    "### Generate descriptive statistics that summarize the central tendency, dispersion and  shape of a dataset’s distribution, excluding NaN values."
   ]
  },
  {
   "cell_type": "code",
   "execution_count": 8,
   "metadata": {},
   "outputs": [
    {
     "data": {
      "text/html": [
       "<div>\n",
       "<style scoped>\n",
       "    .dataframe tbody tr th:only-of-type {\n",
       "        vertical-align: middle;\n",
       "    }\n",
       "\n",
       "    .dataframe tbody tr th {\n",
       "        vertical-align: top;\n",
       "    }\n",
       "\n",
       "    .dataframe thead th {\n",
       "        text-align: right;\n",
       "    }\n",
       "</style>\n",
       "<table border=\"1\" class=\"dataframe\">\n",
       "  <thead>\n",
       "    <tr style=\"text-align: right;\">\n",
       "      <th></th>\n",
       "      <th>Num of matched keypoints</th>\n",
       "      <th>Time detectors (ms)</th>\n",
       "      <th>Time descriptors (ms)</th>\n",
       "      <th>Total time (ms)</th>\n",
       "    </tr>\n",
       "  </thead>\n",
       "  <tbody>\n",
       "    <tr>\n",
       "      <th>count</th>\n",
       "      <td>252.000000</td>\n",
       "      <td>252.000000</td>\n",
       "      <td>252.000000</td>\n",
       "      <td>252.000000</td>\n",
       "    </tr>\n",
       "    <tr>\n",
       "      <th>mean</th>\n",
       "      <td>121.436508</td>\n",
       "      <td>86.860413</td>\n",
       "      <td>0.710273</td>\n",
       "      <td>87.570701</td>\n",
       "    </tr>\n",
       "    <tr>\n",
       "      <th>std</th>\n",
       "      <td>81.087233</td>\n",
       "      <td>125.965220</td>\n",
       "      <td>0.678844</td>\n",
       "      <td>126.044320</td>\n",
       "    </tr>\n",
       "    <tr>\n",
       "      <th>min</th>\n",
       "      <td>10.000000</td>\n",
       "      <td>1.969850</td>\n",
       "      <td>0.075670</td>\n",
       "      <td>3.927800</td>\n",
       "    </tr>\n",
       "    <tr>\n",
       "      <th>25%</th>\n",
       "      <td>65.000000</td>\n",
       "      <td>7.820625</td>\n",
       "      <td>0.314046</td>\n",
       "      <td>8.097220</td>\n",
       "    </tr>\n",
       "    <tr>\n",
       "      <th>50%</th>\n",
       "      <td>102.000000</td>\n",
       "      <td>18.934900</td>\n",
       "      <td>0.433927</td>\n",
       "      <td>19.232000</td>\n",
       "    </tr>\n",
       "    <tr>\n",
       "      <th>75%</th>\n",
       "      <td>165.000000</td>\n",
       "      <td>91.301400</td>\n",
       "      <td>0.993790</td>\n",
       "      <td>91.849850</td>\n",
       "    </tr>\n",
       "    <tr>\n",
       "      <th>max</th>\n",
       "      <td>332.000000</td>\n",
       "      <td>387.053000</td>\n",
       "      <td>3.947520</td>\n",
       "      <td>388.096000</td>\n",
       "    </tr>\n",
       "  </tbody>\n",
       "</table>\n",
       "</div>"
      ],
      "text/plain": [
       "       Num of matched keypoints  Time detectors (ms)  Time descriptors (ms)  \\\n",
       "count                252.000000           252.000000             252.000000   \n",
       "mean                 121.436508            86.860413               0.710273   \n",
       "std                   81.087233           125.965220               0.678844   \n",
       "min                   10.000000             1.969850               0.075670   \n",
       "25%                   65.000000             7.820625               0.314046   \n",
       "50%                  102.000000            18.934900               0.433927   \n",
       "75%                  165.000000            91.301400               0.993790   \n",
       "max                  332.000000           387.053000               3.947520   \n",
       "\n",
       "       Total time (ms)  \n",
       "count       252.000000  \n",
       "mean         87.570701  \n",
       "std         126.044320  \n",
       "min           3.927800  \n",
       "25%           8.097220  \n",
       "50%          19.232000  \n",
       "75%          91.849850  \n",
       "max         388.096000  "
      ]
     },
     "execution_count": 8,
     "metadata": {},
     "output_type": "execute_result"
    }
   ],
   "source": [
    "dataSet.describe()"
   ]
  },
  {
   "cell_type": "markdown",
   "metadata": {},
   "source": [
    "### Max Num of KeyPoints Detected"
   ]
  },
  {
   "cell_type": "code",
   "execution_count": 16,
   "metadata": {},
   "outputs": [
    {
     "data": {
      "text/plain": [
       "Keypoint Detector              FAST\n",
       "Keypoint Descriptor           BRIEF\n",
       "Num of matched keypoints        332\n",
       "Time detectors (ms)         2.05355\n",
       "Time descriptors (ms)       2.08523\n",
       "Total time (ms)             4.13878\n",
       "Name: 82, dtype: object"
      ]
     },
     "execution_count": 16,
     "metadata": {},
     "output_type": "execute_result"
    }
   ],
   "source": [
    "dataSet.iloc[dataSet['Num of matched keypoints'].idxmax()]"
   ]
  },
  {
   "cell_type": "markdown",
   "metadata": {},
   "source": [
    "### Least total runtime for KeyPoints detection and matching"
   ]
  },
  {
   "cell_type": "code",
   "execution_count": 17,
   "metadata": {},
   "outputs": [
    {
     "data": {
      "text/plain": [
       "Keypoint Detector              FAST\n",
       "Keypoint Descriptor           BRIEF\n",
       "Num of matched keypoints        331\n",
       "Time detectors (ms)         1.96985\n",
       "Time descriptors (ms)       1.95795\n",
       "Total time (ms)              3.9278\n",
       "Name: 84, dtype: object"
      ]
     },
     "execution_count": 17,
     "metadata": {},
     "output_type": "execute_result"
    }
   ],
   "source": [
    "dataSet.iloc[dataSet['Total time (ms)'].idxmin()]"
   ]
  },
  {
   "cell_type": "markdown",
   "metadata": {},
   "source": [
    "### Min Num of KeyPoints Detected"
   ]
  },
  {
   "cell_type": "code",
   "execution_count": 18,
   "metadata": {},
   "outputs": [
    {
     "data": {
      "text/plain": [
       "Keypoint Detector             HARRIS\n",
       "Keypoint Descriptor            BRISK\n",
       "Num of matched keypoints          10\n",
       "Time detectors (ms)          18.7123\n",
       "Time descriptors (ms)       0.103116\n",
       "Total time (ms)              18.8154\n",
       "Name: 37, dtype: object"
      ]
     },
     "execution_count": 18,
     "metadata": {},
     "output_type": "execute_result"
    }
   ],
   "source": [
    "dataSet.iloc[dataSet['Num of matched keypoints'].idxmin()]"
   ]
  },
  {
   "cell_type": "markdown",
   "metadata": {},
   "source": [
    "### Longest total runtime for KeyPoints detection and matching"
   ]
  },
  {
   "cell_type": "code",
   "execution_count": 19,
   "metadata": {},
   "outputs": [
    {
     "data": {
      "text/plain": [
       "Keypoint Detector             BRISK\n",
       "Keypoint Descriptor           BRIEF\n",
       "Num of matched keypoints        193\n",
       "Time detectors (ms)         387.053\n",
       "Time descriptors (ms)       1.04348\n",
       "Total time (ms)             388.096\n",
       "Name: 122, dtype: object"
      ]
     },
     "execution_count": 19,
     "metadata": {},
     "output_type": "execute_result"
    }
   ],
   "source": [
    "dataSet.iloc[dataSet['Total time (ms)'].idxmax()]"
   ]
  },
  {
   "cell_type": "markdown",
   "metadata": {},
   "source": [
    "##  Analysis:\n",
    "\n",
    "### As can be seen from the above, the best detector - descriptor for keypoint calculation and matching is FAST detector and BRIEF descriptor based on both the most num of keypoints detector as well as least time for descriptor matching."
   ]
  },
  {
   "cell_type": "code",
   "execution_count": 21,
   "metadata": {},
   "outputs": [
    {
     "data": {
      "text/plain": [
       "<matplotlib.axes._subplots.AxesSubplot at 0x12626eb00>"
      ]
     },
     "execution_count": 21,
     "metadata": {},
     "output_type": "execute_result"
    },
    {
     "data": {
      "image/png": "[encoded data removed]",
      "text/plain": [
       "<Figure size 432x288 with 1 Axes>"
      ]
     },
     "metadata": {
      "needs_background": "light"
     },
     "output_type": "display_data"
    }
   ],
   "source": [
    "dataSet['Num of matched keypoints'].hist()"
   ]
  },
  {
   "cell_type": "code",
   "execution_count": 22,
   "metadata": {},
   "outputs": [
    {
     "data": {
      "text/plain": [
       "<matplotlib.axes._subplots.AxesSubplot at 0x1263f85f8>"
      ]
     },
     "execution_count": 22,
     "metadata": {},
     "output_type": "execute_result"
    },
    {
     "data": {
      "image/png": "[encoded data removed]",
      "text/plain": [
       "<Figure size 432x288 with 1 Axes>"
      ]
     },
     "metadata": {
      "needs_background": "light"
     },
     "output_type": "display_data"
    }
   ],
   "source": [
    "dataSet['Total time (ms)'].hist()"
   ]
  }
 ],
 "metadata": {
  "kernelspec": {
   "display_name": "Python 3",
   "language": "python",
   "name": "python3"
  },
  "language_info": {
   "codemirror_mode": {
    "name": "ipython",
    "version": 3
   },
   "file_extension": ".py",
   "mimetype": "text/x-python",
   "name": "python",
   "nbconvert_exporter": "python",
   "pygments_lexer": "ipython3",
   "version": "3.6.8"
  }
 },
 "nbformat": 4,
 "nbformat_minor": 2
}
